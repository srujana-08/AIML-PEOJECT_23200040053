{
  "nbformat": 4,
  "nbformat_minor": 0,
  "metadata": {
    "colab": {
      "provenance": []
    },
    "kernelspec": {
      "name": "python3",
      "display_name": "Python 3"
    },
    "language_info": {
      "name": "python"
    }
  },
  "cells": [
    {
      "cell_type": "markdown",
      "source": [
        "Map colouring:"
      ],
      "metadata": {
        "id": "W9FIskNJXUQJ"
      }
    },
    {
      "cell_type": "code",
      "source": [
        "import networkx as nx\n",
        "import matplotlib.pyplot as plt\n",
        "\n",
        "# Get the nodes and edges from the user\n",
        "num_nodes = int(input(\"Enter the number of nodes: \"))\n",
        "nodes = []\n",
        "for i in range(num_nodes):\n",
        "    node = input(f\"Enter node {i+1}: \")\n",
        "    nodes.append(node)\n",
        "\n",
        "num_edges = int(input(\"Enter the number of edges: \"))\n",
        "edges = []\n",
        "for i in range(num_edges):\n",
        "    edge = input(f\"Enter edge {i+1} (format: node1 node2): \").split()\n",
        "    edges.append(tuple(edge))\n",
        "\n",
        "# Get the colors from the user\n",
        "num_colors = int(input(\"Enter the number of colors: \"))\n",
        "colors = []\n",
        "for i in range(num_colors):\n",
        "    color = input(f\"Enter color {i+1}: \")\n",
        "    colors.append(color)\n",
        "\n",
        "# Define the map as a graph\n",
        "G = nx.Graph()\n",
        "G.add_nodes_from(nodes)  # nodes\n",
        "G.add_edges_from(edges)  # edges\n",
        "\n",
        "# Function to check if a color is safe for a node\n",
        "def is_safe(node, color, colored_nodes):\n",
        "    for neighbor in G.neighbors(node):\n",
        "        if neighbor in colored_nodes and colored_nodes[neighbor] == color:\n",
        "            return False\n",
        "    return True\n",
        "\n",
        "# Function to color the map\n",
        "def color_map():\n",
        "    colored_nodes = {}\n",
        "    for node in G.nodes():\n",
        "        for color in colors:\n",
        "            if is_safe(node, color, colored_nodes):\n",
        "                colored_nodes[node] = color\n",
        "                break\n",
        "        else:\n",
        "            return None  # cannot color the node with the given colors\n",
        "    return colored_nodes\n",
        "\n",
        "# Color the map\n",
        "colored_nodes = color_map()\n",
        "\n",
        "if colored_nodes is None:\n",
        "    print(\"Insufficient colors to color the graph.\")\n",
        "else:\n",
        "    # Draw the graph with colors\n",
        "    pos = nx.spring_layout(G)\n",
        "    nx.draw_networkx_nodes(G, pos, node_color=[colored_nodes[node] for node in G.nodes()])\n",
        "    nx.draw_networkx_edges(G, pos, edge_color='black')\n",
        "    nx.draw_networkx_labels(G, pos, font_size=10)\n",
        "    plt.show()2"
      ],
      "metadata": {
        "colab": {
          "base_uri": "https://localhost:8080/",
          "height": 666
        },
        "id": "TYCgDYfmYYTb",
        "outputId": "5db1bb92-1857-4d80-fcd1-61bd8a836bd2"
      },
      "execution_count": 6,
      "outputs": [
        {
          "name": "stdout",
          "output_type": "stream",
          "text": [
            "Enter the number of nodes: 4\n",
            "Enter node 1: 4\n",
            "Enter node 2: 3\n",
            "Enter node 3: 4\n",
            "Enter node 4: \n",
            "Enter the number of edges: 5\n",
            "Enter edge 1 (format: node1 node2): 1 2\n",
            "Enter edge 2 (format: node1 node2): 1 3 \n",
            "Enter edge 3 (format: node1 node2): 2 3\n",
            "Enter edge 4 (format: node1 node2): 3 4\n",
            "Enter edge 5 (format: node1 node2): 1 4\n",
            "Enter the number of colors: 3\n",
            "Enter color 1: r\n",
            "Enter color 2: y\n",
            "Enter color 3: b\n"
          ]
        },
        {
          "output_type": "display_data",
          "data": {
            "text/plain": [
              "<Figure size 640x480 with 1 Axes>"
            ],
            "image/png": "[encoded data removed]"
          },
          "metadata": {}
        }
      ]
    },
    {
      "cell_type": "code",
      "source": [],
      "metadata": {
        "id": "3Xaarh9uYYoh"
      },
      "execution_count": null,
      "outputs": []
    }
  ]
}